{
 "cells": [
  {
   "cell_type": "code",
   "execution_count": null,
   "metadata": {},
   "outputs": [],
   "source": [
    "import scanpy as sc\n",
    "import scTour                                # scTour v1.0.0 :contentReference[oaicite:11]{index=11}\n",
    "import numpy as np\n",
    "\n",
    "# 4.1 读取 h5ad 文件\n",
    "adata = sc.read_h5ad(\"B_Plasma.h5ad\")\n",
    "\n",
    "# 4.2 预处理\n",
    "sc.pp.filter_genes(adata, min_counts=3)\n",
    "sc.pp.normalize_total(adata)\n",
    "sc.pp.log1p(adata)\n",
    "sc.pp.highly_variable_genes(adata, n_top_genes=2000)\n",
    "\n",
    "# 4.3 初始化并训练 scTour 模型\n",
    "model = scTour.scTour(\n",
    "    data   = adata.X,\n",
    "    labels = np.array(adata.obs['Cell_type'] == \"Plasma\", dtype=int)\n",
    ")\n",
    "model.train(epochs=100)                     # 训练模型 :contentReference[oaicite:12]{index=12}\n",
    "\n",
    "# 4.4 预测 pseudotime\n",
    "adata.obs['pseudotime'] = model.predict(adata.X)\n",
    "\n",
    "# 4.5 （可选）基于 pseudotime 绘制 UMAP\n",
    "sc.pp.neighbors(adata)\n",
    "sc.tl.umap(adata)\n",
    "sc.pl.umap(adata, color='pseudotime', cmap='viridis')\n"
   ]
  }
 ],
 "metadata": {
  "kernelspec": {
   "display_name": "base",
   "language": "python",
   "name": "python3"
  },
  "language_info": {
   "name": "python",
   "version": "3.12.9"
  }
 },
 "nbformat": 4,
 "nbformat_minor": 2
}
